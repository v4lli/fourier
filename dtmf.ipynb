{
 "cells": [
  {
   "cell_type": "markdown",
   "metadata": {},
   "source": [
    "# DTMF Code Recoginition\n",
    "\n",
    "A simple SageMath notebook showing how to use the Discrete Fast Fourier Transformation (or rather a custom implementation of the STFT) to identify a sequence of numbers typed over a telephone call (12337 in this example).\n",
    "\n",
    "This is just a PoC, so the code is really messy."
   ]
  },
  {
   "cell_type": "code",
   "execution_count": 9,
   "metadata": {
    "collapsed": false
   },
   "outputs": [],
   "source": [
    "from scipy.io.wavfile import read as wav_read\n",
    "from numpy.fft import rfft, irfft\n",
    "from scipy.signal import find_peaks_cwt\n",
    "import numpy as np\n",
    "import matplotlib.pyplot as plt\n",
    "\n",
    "from sage.plot.point import Point\n",
    "import time"
   ]
  },
  {
   "cell_type": "code",
   "execution_count": 10,
   "metadata": {
    "collapsed": false
   },
   "outputs": [],
   "source": [
    "sounds = wav_read(\"/Users/valentin/Desktop/fourier/dtmf/dtmf.wav\")"
   ]
  },
  {
   "cell_type": "code",
   "execution_count": 11,
   "metadata": {
    "collapsed": false
   },
   "outputs": [
    {
     "name": "stdout",
     "output_type": "stream",
     "text": [
      "samplerate 44100, using 0.1s chunks, 4410 samples per dfft\n"
     ]
    },
    {
     "data": {
      "text/html": [
       "<img src=\"1.gif?update=1520641126\" />"
      ],
      "text/plain": [
       "<img src=\"1.gif?update=1520641126\" />"
      ]
     },
     "metadata": {},
     "output_type": "display_data"
    },
    {
     "data": {
      "text/plain": []
     },
     "execution_count": 11,
     "metadata": {},
     "output_type": "execute_result"
    }
   ],
   "source": [
    "def get_tone_for_freq(a, b):\n",
    "    if np.isclose(a, 69, atol=4):\n",
    "        if np.isclose(b, 120, atol=4):\n",
    "            return 1\n",
    "    if np.isclose(a, 69, atol=3):\n",
    "        if np.isclose(b, 133, atol=4):\n",
    "            return 2\n",
    "    if np.isclose(a, 69, atol=3):\n",
    "        if np.isclose(b, 147, atol=4):\n",
    "            return 3\n",
    "    if np.isclose(a, 77, atol=3):\n",
    "        if np.isclose(b, 120, atol=4):\n",
    "            return 4\n",
    "    if np.isclose(a, 77, atol=3):\n",
    "        if np.isclose(b, 133, atol=4):\n",
    "            return 5\n",
    "    if np.isclose(a, 77, atol=3):\n",
    "        if np.isclose(b, 147, atol=4):\n",
    "            return 6\n",
    "    if np.isclose(a, 85, atol=4):\n",
    "        if np.isclose(b, 120, atol=4):\n",
    "            return 7\n",
    "    if np.isclose(a, 85, atol=4):\n",
    "        if np.isclose(b, 133, atol=4):\n",
    "            return 8        \n",
    "    if np.isclose(a, 85, atol=4):\n",
    "        if np.isclose(b, 147, atol=4):\n",
    "            return 9\n",
    "    if np.isclose(a, 94, atol=4):\n",
    "        if np.isclose(b, 133, atol=4):\n",
    "            return 0\n",
    "\n",
    "samples_per_step = sounds[0]/10\n",
    "samples_per_sec = sounds[0]\n",
    "total_steps = len(sounds[1])/samples_per_step\n",
    "print(\"samplerate %d, using 0.1s chunks, %d samples per dfft\" % (samples_per_sec, samples_per_step))\n",
    "cnt = 0\n",
    "plots=[]\n",
    "\n",
    "\n",
    "number = \"\"\n",
    "last_was_no_number = True\n",
    "while cnt < total_steps:\n",
    "    window = sounds[1][cnt*samples_per_step:cnt*samples_per_step+samples_per_step]\n",
    "    fft = abs(rfft([e[0] for e in window]))\n",
    "    peaks = find_peaks_cwt(fft, np.arange(5,10))\n",
    "\n",
    "    gen_title = (\"00m%.2fsec - Highest peaks at %d Hz, %d Hz\" % (cnt*samples_per_step/sounds[0], peaks[0]*10, peaks[1]*10))\n",
    "    \n",
    "    dtmf_tone = get_tone_for_freq(peaks[0], peaks[1])\n",
    "    marked = None\n",
    "    if dtmf_tone:\n",
    "        detected_sound = \"#%d pressed!\" % dtmf_tone\n",
    "        marked = list_plot(Point([peaks[0], peaks[1]],[0, 0],{'alpha':.5}), color=\"red\", size=100)\n",
    "        if last_was_no_number:\n",
    "            number += str(dtmf_tone)\n",
    "            last_was_no_number = False\n",
    "    else:\n",
    "        detected_sound = \"No key pressed\"\n",
    "        last_was_no_number = True\n",
    "        marked = line([(0,0), (0,0)])\n",
    "        \n",
    "    detected_sound = \"Pressed Buttons: \" + number + \"; \" + detected_sound\n",
    "\n",
    "    marked +=(list_plot(fft, title=gen_title, xmax=600, xmin=0, ymin=0, ymax=10000, axes_labels=[\"Hz\\nx100\", \"Amplitude\"]) +\n",
    "             text(detected_sound, (300,-800), bounding_box={'boxstyle':'round', 'fc':'w'}))\n",
    "    \n",
    "    plots.append(marked)\n",
    "    cnt += 1\n",
    "a = animate(plots)\n",
    "f = a.gif(savefile='1.gif', delay=10)\n",
    "html('<img src=\"1.gif?update=%d\" />' % time.time())"
   ]
  },
  {
   "cell_type": "markdown",
   "metadata": {
    "collapsed": true
   },
   "source": [
    "_Note: The red dots on the x-axis each represent one of the two frequencies which, in combination, represent one of the digits on a telephone keyboard._"
   ]
  },
  {
   "cell_type": "code",
   "execution_count": null,
   "metadata": {
    "collapsed": true
   },
   "outputs": [],
   "source": []
  }
 ],
 "metadata": {
  "kernelspec": {
   "display_name": "SageMath 7.5.1",
   "language": "",
   "name": "sagemath"
  },
  "language_info": {
   "codemirror_mode": {
    "name": "ipython",
    "version": 2
   },
   "file_extension": ".py",
   "mimetype": "text/x-python",
   "name": "python",
   "nbconvert_exporter": "python",
   "pygments_lexer": "ipython2",
   "version": "2.7.13"
  }
 },
 "nbformat": 4,
 "nbformat_minor": 0
}
